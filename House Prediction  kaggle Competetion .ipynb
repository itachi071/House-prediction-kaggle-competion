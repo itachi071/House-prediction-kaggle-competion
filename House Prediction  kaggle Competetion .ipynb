{
 "cells": [
  {
   "cell_type": "code",
   "execution_count": 26,
   "id": "f5858fa9",
   "metadata": {},
   "outputs": [],
   "source": [
    "import pandas as pd\n",
    "import numpy as np\n",
    "import matplotlib.pyplot as plt\n",
    "import seaborn as sns\n",
    "sns.set_style('darkgrid')\n",
    "from sklearn.neighbors import KNeighborsRegressor\n",
    "import scipy.stats\n",
    "from sklearn.preprocessing import StandardScaler\n",
    "from sklearn.linear_model import BayesianRidge, HuberRegressor, Ridge, OrthogonalMatchingPursuit\n",
    "from sklearn.ensemble import GradientBoostingRegressor\n",
    "from xgboost import XGBRegressor\n",
    "from sklearn.model_selection import KFold, cross_val_score\n"
   ]
  },
  {
   "cell_type": "code",
   "execution_count": 2,
   "id": "aec25483",
   "metadata": {},
   "outputs": [],
   "source": [
    "train0=pd.read_csv('train.csv')\n",
    "test0=pd.read_csv('test.csv')\n",
    "# for call all columns and 90 rows\n",
    "pd.set_option('max_columns', None)\n",
    "pd.set_option('max_rows', 90)"
   ]
  },
  {
   "cell_type": "markdown",
   "id": "e5a00a8b",
   "metadata": {},
   "source": [
    "# Cleanning\n"
   ]
  },
  {
   "cell_type": "code",
   "execution_count": 3,
   "id": "6814f7fd",
   "metadata": {},
   "outputs": [],
   "source": [
    "target = train0['SalePrice']\n",
    "test_id = test0['Id']\n",
    "train1 =train0.drop(['Id', 'SalePrice'], axis=1)\n",
    "test1 = test0.drop('Id', axis=1)\n",
    "data1 = pd.concat([train1, test1], axis=0).reset_index(drop=True)"
   ]
  },
  {
   "cell_type": "code",
   "execution_count": 4,
   "id": "0a163fe2",
   "metadata": {},
   "outputs": [],
   "source": [
    "data2 = data1.copy()\n",
    "data2['MSSubClass']=data2['MSSubClass'].astype('str')"
   ]
  },
  {
   "cell_type": "markdown",
   "id": "08700f77",
   "metadata": {},
   "source": [
    "# Fill Categorical Features"
   ]
  },
  {
   "cell_type": "code",
   "execution_count": 5,
   "id": "7a08dfa3",
   "metadata": {},
   "outputs": [],
   "source": [
    "#impute for a constant value\n",
    "for column in ['Alley','BsmtQual','BsmtExposure', 'BsmtFinType1','BsmtCond','BsmtFinType2','FireplaceQu', 'GarageType', 'GarageFinish', 'GarageQual', 'GarageCond','PoolQC', 'Fence', 'MiscFeature']:\n",
    "    data2[column] = data2[column].fillna('None')\n",
    "    \n",
    "#impute using the column mode\n",
    "for column in ['MSZoning','Utilities','Exterior1st','Exterior2nd','MasVnrType','Electrical', 'KitchenQual', 'Functional', 'SaleType']:\n",
    "     data2[column] = data2[column].fillna(data2[column].mode()[0])"
   ]
  },
  {
   "cell_type": "code",
   "execution_count": 6,
   "id": "9dd69805",
   "metadata": {},
   "outputs": [
    {
     "data": {
      "text/plain": [
       "Index([], dtype='object')"
      ]
     },
     "execution_count": 6,
     "metadata": {},
     "output_type": "execute_result"
    }
   ],
   "source": [
    "data2.select_dtypes('object').loc[:, data2.isna().sum()>0].columns"
   ]
  },
  {
   "cell_type": "code",
   "execution_count": 7,
   "id": "be35ebaf",
   "metadata": {},
   "outputs": [
    {
     "data": {
      "text/plain": [
       "MSSubClass         0\n",
       "MSZoning           0\n",
       "LotFrontage      486\n",
       "LotArea            0\n",
       "Street             0\n",
       "Alley              0\n",
       "LotShape           0\n",
       "LandContour        0\n",
       "Utilities          0\n",
       "LotConfig          0\n",
       "LandSlope          0\n",
       "Neighborhood       0\n",
       "Condition1         0\n",
       "Condition2         0\n",
       "BldgType           0\n",
       "HouseStyle         0\n",
       "OverallQual        0\n",
       "OverallCond        0\n",
       "YearBuilt          0\n",
       "YearRemodAdd       0\n",
       "RoofStyle          0\n",
       "RoofMatl           0\n",
       "Exterior1st        0\n",
       "Exterior2nd        0\n",
       "MasVnrType         0\n",
       "MasVnrArea        23\n",
       "ExterQual          0\n",
       "ExterCond          0\n",
       "Foundation         0\n",
       "BsmtQual           0\n",
       "BsmtCond           0\n",
       "BsmtExposure       0\n",
       "BsmtFinType1       0\n",
       "BsmtFinSF1         1\n",
       "BsmtFinType2       0\n",
       "BsmtFinSF2         1\n",
       "BsmtUnfSF          1\n",
       "TotalBsmtSF        1\n",
       "Heating            0\n",
       "HeatingQC          0\n",
       "CentralAir         0\n",
       "Electrical         0\n",
       "1stFlrSF           0\n",
       "2ndFlrSF           0\n",
       "LowQualFinSF       0\n",
       "GrLivArea          0\n",
       "BsmtFullBath       2\n",
       "BsmtHalfBath       2\n",
       "FullBath           0\n",
       "HalfBath           0\n",
       "BedroomAbvGr       0\n",
       "KitchenAbvGr       0\n",
       "KitchenQual        0\n",
       "TotRmsAbvGrd       0\n",
       "Functional         0\n",
       "Fireplaces         0\n",
       "FireplaceQu        0\n",
       "GarageType         0\n",
       "GarageYrBlt      159\n",
       "GarageFinish       0\n",
       "GarageCars         1\n",
       "GarageArea         1\n",
       "GarageQual         0\n",
       "GarageCond         0\n",
       "PavedDrive         0\n",
       "WoodDeckSF         0\n",
       "OpenPorchSF        0\n",
       "EnclosedPorch      0\n",
       "3SsnPorch          0\n",
       "ScreenPorch        0\n",
       "PoolArea           0\n",
       "PoolQC             0\n",
       "Fence              0\n",
       "MiscFeature        0\n",
       "MiscVal            0\n",
       "MoSold             0\n",
       "YrSold             0\n",
       "SaleType           0\n",
       "SaleCondition      0\n",
       "dtype: int64"
      ]
     },
     "execution_count": 7,
     "metadata": {},
     "output_type": "execute_result"
    }
   ],
   "source": [
    "data2.isna().sum()"
   ]
  },
  {
   "cell_type": "markdown",
   "id": "c3d59042",
   "metadata": {},
   "source": [
    "# Fill missing values of numerical data using knn"
   ]
  },
  {
   "cell_type": "code",
   "execution_count": 8,
   "id": "cbb15b00",
   "metadata": {},
   "outputs": [],
   "source": [
    "data3 = data2.copy()\n"
   ]
  },
  {
   "cell_type": "code",
   "execution_count": 9,
   "id": "0288d2bb",
   "metadata": {},
   "outputs": [],
   "source": [
    "def knn_impute(df, na_target):\n",
    "    df = df.copy()\n",
    "    \n",
    "    numeric_df = df.select_dtypes(np.number)\n",
    "    non_na_columns = numeric_df.loc[:, numeric_df.isna().sum() == 0 ].columns\n",
    "    \n",
    "    y_train = numeric_df.loc[numeric_df[na_target].isna()==False, na_target]\n",
    "    x_train = numeric_df.loc[numeric_df[na_target].isna()==False, non_na_columns]\n",
    "    x_test  = numeric_df.loc[numeric_df[na_target].isna()==True, non_na_columns]\n",
    "    \n",
    "    knn = KNeighborsRegressor()\n",
    "    knn.fit(x_train, y_train)\n",
    "    y_pred = knn.predict(x_test)\n",
    "    df.loc[df[na_target].isna()==True, na_target] = y_pred\n",
    "    \n",
    "    return df"
   ]
  },
  {
   "cell_type": "code",
   "execution_count": 10,
   "id": "5247171e",
   "metadata": {},
   "outputs": [
    {
     "data": {
      "text/plain": [
       "Index(['LotFrontage', 'MasVnrArea', 'BsmtFinSF1', 'BsmtFinSF2', 'BsmtUnfSF',\n",
       "       'TotalBsmtSF', 'BsmtFullBath', 'BsmtHalfBath', 'GarageYrBlt',\n",
       "       'GarageCars', 'GarageArea'],\n",
       "      dtype='object')"
      ]
     },
     "execution_count": 10,
     "metadata": {},
     "output_type": "execute_result"
    }
   ],
   "source": [
    "data3.loc[:,data3.isna().sum()>0].columns"
   ]
  },
  {
   "cell_type": "code",
   "execution_count": 11,
   "id": "d3ccb895",
   "metadata": {},
   "outputs": [],
   "source": [
    "for column in ['LotFrontage', 'MasVnrArea', 'BsmtFinSF1', 'BsmtFinSF2', 'BsmtUnfSF',\n",
    "       'TotalBsmtSF', 'BsmtFullBath', 'BsmtHalfBath', 'GarageYrBlt',\n",
    "       'GarageCars', 'GarageArea']:\n",
    "    data3 = knn_impute(data3, column)"
   ]
  },
  {
   "cell_type": "markdown",
   "id": "a6af7380",
   "metadata": {},
   "source": [
    " data3.isna().sum()"
   ]
  },
  {
   "cell_type": "code",
   "execution_count": 12,
   "id": "9669d6e3",
   "metadata": {},
   "outputs": [],
   "source": [
    "data4 = data3.copy()"
   ]
  },
  {
   "cell_type": "code",
   "execution_count": null,
   "id": "137b69d6",
   "metadata": {},
   "outputs": [],
   "source": []
  },
  {
   "cell_type": "markdown",
   "id": "534b3f8a",
   "metadata": {},
   "source": [
    "# Feature Transformation using log function"
   ]
  },
  {
   "cell_type": "code",
   "execution_count": 13,
   "id": "066e35fc",
   "metadata": {},
   "outputs": [
    {
     "data": {
      "text/html": [
       "<div>\n",
       "<style scoped>\n",
       "    .dataframe tbody tr th:only-of-type {\n",
       "        vertical-align: middle;\n",
       "    }\n",
       "\n",
       "    .dataframe tbody tr th {\n",
       "        vertical-align: top;\n",
       "    }\n",
       "\n",
       "    .dataframe thead th {\n",
       "        text-align: right;\n",
       "    }\n",
       "</style>\n",
       "<table border=\"1\" class=\"dataframe\">\n",
       "  <thead>\n",
       "    <tr style=\"text-align: right;\">\n",
       "      <th></th>\n",
       "      <th>Feature</th>\n",
       "      <th>Skew</th>\n",
       "      <th>Absolute_skew</th>\n",
       "      <th>Skewed</th>\n",
       "    </tr>\n",
       "  </thead>\n",
       "  <tbody>\n",
       "    <tr>\n",
       "      <th>0</th>\n",
       "      <td>LotFrontage</td>\n",
       "      <td>1.340751</td>\n",
       "      <td>1.340751</td>\n",
       "      <td>True</td>\n",
       "    </tr>\n",
       "    <tr>\n",
       "      <th>1</th>\n",
       "      <td>LotArea</td>\n",
       "      <td>12.822431</td>\n",
       "      <td>12.822431</td>\n",
       "      <td>True</td>\n",
       "    </tr>\n",
       "    <tr>\n",
       "      <th>2</th>\n",
       "      <td>OverallQual</td>\n",
       "      <td>0.197110</td>\n",
       "      <td>0.197110</td>\n",
       "      <td>False</td>\n",
       "    </tr>\n",
       "    <tr>\n",
       "      <th>3</th>\n",
       "      <td>OverallCond</td>\n",
       "      <td>0.570312</td>\n",
       "      <td>0.570312</td>\n",
       "      <td>True</td>\n",
       "    </tr>\n",
       "    <tr>\n",
       "      <th>4</th>\n",
       "      <td>YearBuilt</td>\n",
       "      <td>-0.599806</td>\n",
       "      <td>0.599806</td>\n",
       "      <td>True</td>\n",
       "    </tr>\n",
       "    <tr>\n",
       "      <th>5</th>\n",
       "      <td>YearRemodAdd</td>\n",
       "      <td>-0.451020</td>\n",
       "      <td>0.451020</td>\n",
       "      <td>False</td>\n",
       "    </tr>\n",
       "    <tr>\n",
       "      <th>6</th>\n",
       "      <td>MasVnrArea</td>\n",
       "      <td>2.603682</td>\n",
       "      <td>2.603682</td>\n",
       "      <td>True</td>\n",
       "    </tr>\n",
       "    <tr>\n",
       "      <th>7</th>\n",
       "      <td>BsmtFinSF1</td>\n",
       "      <td>1.425516</td>\n",
       "      <td>1.425516</td>\n",
       "      <td>True</td>\n",
       "    </tr>\n",
       "    <tr>\n",
       "      <th>8</th>\n",
       "      <td>BsmtFinSF2</td>\n",
       "      <td>4.146111</td>\n",
       "      <td>4.146111</td>\n",
       "      <td>True</td>\n",
       "    </tr>\n",
       "    <tr>\n",
       "      <th>9</th>\n",
       "      <td>BsmtUnfSF</td>\n",
       "      <td>0.919322</td>\n",
       "      <td>0.919322</td>\n",
       "      <td>True</td>\n",
       "    </tr>\n",
       "    <tr>\n",
       "      <th>10</th>\n",
       "      <td>TotalBsmtSF</td>\n",
       "      <td>1.162806</td>\n",
       "      <td>1.162806</td>\n",
       "      <td>True</td>\n",
       "    </tr>\n",
       "    <tr>\n",
       "      <th>11</th>\n",
       "      <td>1stFlrSF</td>\n",
       "      <td>1.469604</td>\n",
       "      <td>1.469604</td>\n",
       "      <td>True</td>\n",
       "    </tr>\n",
       "    <tr>\n",
       "      <th>12</th>\n",
       "      <td>2ndFlrSF</td>\n",
       "      <td>0.861675</td>\n",
       "      <td>0.861675</td>\n",
       "      <td>True</td>\n",
       "    </tr>\n",
       "    <tr>\n",
       "      <th>13</th>\n",
       "      <td>LowQualFinSF</td>\n",
       "      <td>12.088761</td>\n",
       "      <td>12.088761</td>\n",
       "      <td>True</td>\n",
       "    </tr>\n",
       "    <tr>\n",
       "      <th>14</th>\n",
       "      <td>GrLivArea</td>\n",
       "      <td>1.269358</td>\n",
       "      <td>1.269358</td>\n",
       "      <td>True</td>\n",
       "    </tr>\n",
       "    <tr>\n",
       "      <th>15</th>\n",
       "      <td>BsmtFullBath</td>\n",
       "      <td>0.624373</td>\n",
       "      <td>0.624373</td>\n",
       "      <td>True</td>\n",
       "    </tr>\n",
       "    <tr>\n",
       "      <th>16</th>\n",
       "      <td>BsmtHalfBath</td>\n",
       "      <td>3.931594</td>\n",
       "      <td>3.931594</td>\n",
       "      <td>True</td>\n",
       "    </tr>\n",
       "    <tr>\n",
       "      <th>17</th>\n",
       "      <td>FullBath</td>\n",
       "      <td>0.167606</td>\n",
       "      <td>0.167606</td>\n",
       "      <td>False</td>\n",
       "    </tr>\n",
       "    <tr>\n",
       "      <th>18</th>\n",
       "      <td>HalfBath</td>\n",
       "      <td>0.694566</td>\n",
       "      <td>0.694566</td>\n",
       "      <td>True</td>\n",
       "    </tr>\n",
       "    <tr>\n",
       "      <th>19</th>\n",
       "      <td>BedroomAbvGr</td>\n",
       "      <td>0.326324</td>\n",
       "      <td>0.326324</td>\n",
       "      <td>False</td>\n",
       "    </tr>\n",
       "    <tr>\n",
       "      <th>20</th>\n",
       "      <td>KitchenAbvGr</td>\n",
       "      <td>4.302254</td>\n",
       "      <td>4.302254</td>\n",
       "      <td>True</td>\n",
       "    </tr>\n",
       "    <tr>\n",
       "      <th>21</th>\n",
       "      <td>TotRmsAbvGrd</td>\n",
       "      <td>0.758367</td>\n",
       "      <td>0.758367</td>\n",
       "      <td>True</td>\n",
       "    </tr>\n",
       "    <tr>\n",
       "      <th>22</th>\n",
       "      <td>Fireplaces</td>\n",
       "      <td>0.733495</td>\n",
       "      <td>0.733495</td>\n",
       "      <td>True</td>\n",
       "    </tr>\n",
       "    <tr>\n",
       "      <th>23</th>\n",
       "      <td>GarageYrBlt</td>\n",
       "      <td>-0.346327</td>\n",
       "      <td>0.346327</td>\n",
       "      <td>False</td>\n",
       "    </tr>\n",
       "    <tr>\n",
       "      <th>24</th>\n",
       "      <td>GarageCars</td>\n",
       "      <td>-0.218593</td>\n",
       "      <td>0.218593</td>\n",
       "      <td>False</td>\n",
       "    </tr>\n",
       "    <tr>\n",
       "      <th>25</th>\n",
       "      <td>GarageArea</td>\n",
       "      <td>0.240896</td>\n",
       "      <td>0.240896</td>\n",
       "      <td>False</td>\n",
       "    </tr>\n",
       "    <tr>\n",
       "      <th>26</th>\n",
       "      <td>WoodDeckSF</td>\n",
       "      <td>1.842433</td>\n",
       "      <td>1.842433</td>\n",
       "      <td>True</td>\n",
       "    </tr>\n",
       "    <tr>\n",
       "      <th>27</th>\n",
       "      <td>OpenPorchSF</td>\n",
       "      <td>2.535114</td>\n",
       "      <td>2.535114</td>\n",
       "      <td>True</td>\n",
       "    </tr>\n",
       "    <tr>\n",
       "      <th>28</th>\n",
       "      <td>EnclosedPorch</td>\n",
       "      <td>4.003891</td>\n",
       "      <td>4.003891</td>\n",
       "      <td>True</td>\n",
       "    </tr>\n",
       "    <tr>\n",
       "      <th>29</th>\n",
       "      <td>3SsnPorch</td>\n",
       "      <td>11.376065</td>\n",
       "      <td>11.376065</td>\n",
       "      <td>True</td>\n",
       "    </tr>\n",
       "    <tr>\n",
       "      <th>30</th>\n",
       "      <td>ScreenPorch</td>\n",
       "      <td>3.946694</td>\n",
       "      <td>3.946694</td>\n",
       "      <td>True</td>\n",
       "    </tr>\n",
       "    <tr>\n",
       "      <th>31</th>\n",
       "      <td>PoolArea</td>\n",
       "      <td>16.898328</td>\n",
       "      <td>16.898328</td>\n",
       "      <td>True</td>\n",
       "    </tr>\n",
       "    <tr>\n",
       "      <th>32</th>\n",
       "      <td>MiscVal</td>\n",
       "      <td>21.947195</td>\n",
       "      <td>21.947195</td>\n",
       "      <td>True</td>\n",
       "    </tr>\n",
       "    <tr>\n",
       "      <th>33</th>\n",
       "      <td>MoSold</td>\n",
       "      <td>0.195884</td>\n",
       "      <td>0.195884</td>\n",
       "      <td>False</td>\n",
       "    </tr>\n",
       "    <tr>\n",
       "      <th>34</th>\n",
       "      <td>YrSold</td>\n",
       "      <td>0.132399</td>\n",
       "      <td>0.132399</td>\n",
       "      <td>False</td>\n",
       "    </tr>\n",
       "  </tbody>\n",
       "</table>\n",
       "</div>"
      ],
      "text/plain": [
       "          Feature       Skew  Absolute_skew  Skewed\n",
       "0     LotFrontage   1.340751       1.340751    True\n",
       "1         LotArea  12.822431      12.822431    True\n",
       "2     OverallQual   0.197110       0.197110   False\n",
       "3     OverallCond   0.570312       0.570312    True\n",
       "4       YearBuilt  -0.599806       0.599806    True\n",
       "5    YearRemodAdd  -0.451020       0.451020   False\n",
       "6      MasVnrArea   2.603682       2.603682    True\n",
       "7      BsmtFinSF1   1.425516       1.425516    True\n",
       "8      BsmtFinSF2   4.146111       4.146111    True\n",
       "9       BsmtUnfSF   0.919322       0.919322    True\n",
       "10    TotalBsmtSF   1.162806       1.162806    True\n",
       "11       1stFlrSF   1.469604       1.469604    True\n",
       "12       2ndFlrSF   0.861675       0.861675    True\n",
       "13   LowQualFinSF  12.088761      12.088761    True\n",
       "14      GrLivArea   1.269358       1.269358    True\n",
       "15   BsmtFullBath   0.624373       0.624373    True\n",
       "16   BsmtHalfBath   3.931594       3.931594    True\n",
       "17       FullBath   0.167606       0.167606   False\n",
       "18       HalfBath   0.694566       0.694566    True\n",
       "19   BedroomAbvGr   0.326324       0.326324   False\n",
       "20   KitchenAbvGr   4.302254       4.302254    True\n",
       "21   TotRmsAbvGrd   0.758367       0.758367    True\n",
       "22     Fireplaces   0.733495       0.733495    True\n",
       "23    GarageYrBlt  -0.346327       0.346327   False\n",
       "24     GarageCars  -0.218593       0.218593   False\n",
       "25     GarageArea   0.240896       0.240896   False\n",
       "26     WoodDeckSF   1.842433       1.842433    True\n",
       "27    OpenPorchSF   2.535114       2.535114    True\n",
       "28  EnclosedPorch   4.003891       4.003891    True\n",
       "29      3SsnPorch  11.376065      11.376065    True\n",
       "30    ScreenPorch   3.946694       3.946694    True\n",
       "31       PoolArea  16.898328      16.898328    True\n",
       "32        MiscVal  21.947195      21.947195    True\n",
       "33         MoSold   0.195884       0.195884   False\n",
       "34         YrSold   0.132399       0.132399   False"
      ]
     },
     "execution_count": 13,
     "metadata": {},
     "output_type": "execute_result"
    }
   ],
   "source": [
    "skew_df = pd.DataFrame(data4.select_dtypes(np.number).columns, columns=['Feature'])\n",
    "skew_df['Skew']=skew_df['Feature'].apply(lambda feature: scipy.stats.skew(data4[feature]))\n",
    "skew_df['Absolute_skew']=skew_df['Skew'].apply(abs)\n",
    "skew_df['Skewed']= skew_df['Absolute_skew'].apply(lambda x: True if x >= 0.5 else False)\n",
    "skew_df"
   ]
  },
  {
   "cell_type": "code",
   "execution_count": 14,
   "id": "872f6bd6",
   "metadata": {},
   "outputs": [
    {
     "data": {
      "text/plain": [
       "0       LotFrontage\n",
       "1           LotArea\n",
       "3       OverallCond\n",
       "4         YearBuilt\n",
       "6        MasVnrArea\n",
       "7        BsmtFinSF1\n",
       "8        BsmtFinSF2\n",
       "9         BsmtUnfSF\n",
       "10      TotalBsmtSF\n",
       "11         1stFlrSF\n",
       "12         2ndFlrSF\n",
       "13     LowQualFinSF\n",
       "14        GrLivArea\n",
       "15     BsmtFullBath\n",
       "16     BsmtHalfBath\n",
       "18         HalfBath\n",
       "20     KitchenAbvGr\n",
       "21     TotRmsAbvGrd\n",
       "22       Fireplaces\n",
       "26       WoodDeckSF\n",
       "27      OpenPorchSF\n",
       "28    EnclosedPorch\n",
       "29        3SsnPorch\n",
       "30      ScreenPorch\n",
       "31         PoolArea\n",
       "32          MiscVal\n",
       "Name: Feature, dtype: object"
      ]
     },
     "execution_count": 14,
     "metadata": {},
     "output_type": "execute_result"
    }
   ],
   "source": [
    "skew_df.query('Skewed==True')['Feature']"
   ]
  },
  {
   "cell_type": "code",
   "execution_count": 15,
   "id": "4f6d0462",
   "metadata": {},
   "outputs": [],
   "source": [
    "for column in skew_df.query('Skewed==True')['Feature']:\n",
    "    data4[column]=np.log1p(data4[column])"
   ]
  },
  {
   "cell_type": "markdown",
   "id": "63388396",
   "metadata": {},
   "source": [
    "#  Feature Transformation using cosine function"
   ]
  },
  {
   "cell_type": "code",
   "execution_count": 16,
   "id": "6e4270b5",
   "metadata": {},
   "outputs": [],
   "source": [
    "data4['MoSold']=(-np.cos(0.5236*data4['MoSold']))\n"
   ]
  },
  {
   "cell_type": "code",
   "execution_count": 17,
   "id": "18e0fd3b",
   "metadata": {},
   "outputs": [],
   "source": [
    "data5 = data4.copy()"
   ]
  },
  {
   "cell_type": "markdown",
   "id": "54ebe517",
   "metadata": {},
   "source": [
    "# Encoding Categoricals"
   ]
  },
  {
   "cell_type": "code",
   "execution_count": 18,
   "id": "92afab42",
   "metadata": {},
   "outputs": [],
   "source": [
    "data5 = pd.get_dummies(data5)"
   ]
  },
  {
   "cell_type": "code",
   "execution_count": 19,
   "id": "5a40ecb2",
   "metadata": {},
   "outputs": [],
   "source": [
    "data6 = data5.copy()\n",
    "\n"
   ]
  },
  {
   "cell_type": "markdown",
   "id": "aab7f380",
   "metadata": {},
   "source": [
    "# Scaling"
   ]
  },
  {
   "cell_type": "code",
   "execution_count": 20,
   "id": "1e4b86d2",
   "metadata": {},
   "outputs": [],
   "source": [
    "scaler = StandardScaler()\n",
    "scaler.fit(data6)\n",
    "data6 = pd.DataFrame(scaler.transform(data6), index=data6.index, columns=data6.columns)"
   ]
  },
  {
   "cell_type": "code",
   "execution_count": 21,
   "id": "e7ba2c91",
   "metadata": {},
   "outputs": [],
   "source": [
    "data7 = data6.copy()"
   ]
  },
  {
   "cell_type": "markdown",
   "id": "db493688",
   "metadata": {},
   "source": [
    "# Target Transformations"
   ]
  },
  {
   "cell_type": "code",
   "execution_count": 22,
   "id": "90736cb2",
   "metadata": {},
   "outputs": [
    {
     "name": "stderr",
     "output_type": "stream",
     "text": [
      "f:\\ml\\venv\\lib\\site-packages\\seaborn\\distributions.py:2619: FutureWarning: `distplot` is a deprecated function and will be removed in a future version. Please adapt your code to use either `displot` (a figure-level function with similar flexibility) or `histplot` (an axes-level function for histograms).\n",
      "  warnings.warn(msg, FutureWarning)\n",
      "f:\\ml\\venv\\lib\\site-packages\\seaborn\\distributions.py:2619: FutureWarning: `distplot` is a deprecated function and will be removed in a future version. Please adapt your code to use either `displot` (a figure-level function with similar flexibility) or `histplot` (an axes-level function for histograms).\n",
      "  warnings.warn(msg, FutureWarning)\n"
     ]
    },
    {
     "data": {
      "image/png": "[encoded data removed]",
      "text/plain": [
       "<Figure size 1440x720 with 2 Axes>"
      ]
     },
     "metadata": {},
     "output_type": "display_data"
    }
   ],
   "source": [
    "plt.figure(figsize=(20,10))\n",
    "\n",
    "plt.subplot(1,2,1)\n",
    "sns.distplot(target, kde=True, fit=scipy.stats.norm)\n",
    "\n",
    "plt.subplot(1,2,2)\n",
    "sns.distplot(np.log(target), kde=True, fit=scipy.stats.norm)\n",
    "\n",
    "plt.show()"
   ]
  },
  {
   "cell_type": "code",
   "execution_count": 23,
   "id": "e28abfbd",
   "metadata": {},
   "outputs": [],
   "source": [
    " logtarget = np.log(target)"
   ]
  },
  {
   "cell_type": "markdown",
   "id": "aad952c2",
   "metadata": {},
   "source": [
    "# Train and Test Split"
   ]
  },
  {
   "cell_type": "code",
   "execution_count": 50,
   "id": "6b78f3ae",
   "metadata": {},
   "outputs": [],
   "source": [
    "train_final = data7.loc[:train0.index.max(), :].copy()\n",
    "test_final = data7.loc[train0.index.max()+1:, :].reset_index(drop=True).copy()"
   ]
  },
  {
   "cell_type": "code",
   "execution_count": null,
   "id": "6b978090",
   "metadata": {},
   "outputs": [],
   "source": [
    "After train and split we will use pycaret module to find best suitable Ml alogrithms for this problem."
   ]
  },
  {
   "cell_type": "code",
   "execution_count": 51,
   "id": "22debf8e",
   "metadata": {},
   "outputs": [
    {
     "name": "stdout",
     "output_type": "stream",
     "text": [
      "brtrained\n",
      "gbrtrained\n",
      "ridgetrained\n",
      "omptrained\n",
      "XG trained\n"
     ]
    }
   ],
   "source": [
    "models = {\n",
    "    'br':BayesianRidge(),\n",
    "    'gbr':GradientBoostingRegressor(),\n",
    "    'ridge':Ridge(),\n",
    "    'omp': OrthogonalMatchingPursuit(),\n",
    "    'XG ': XGBRegressor()\n",
    "}\n",
    "\n",
    "for name, model in models.items():\n",
    "    model.fit(train_final, logtarget)\n",
    "    print(name + 'trained')"
   ]
  },
  {
   "cell_type": "code",
   "execution_count": 52,
   "id": "19cac2cb",
   "metadata": {},
   "outputs": [],
   "source": [
    "results={}\n",
    "kf = KFold(n_splits=10)\n",
    "for name,model in models.items():\n",
    "        result= np.exp(np.sqrt(-cross_val_score(model, train_final, logtarget, scoring=\"neg_mean_squared_error\", cv=kf)))\n",
    "        results[name]= result"
   ]
  },
  {
   "cell_type": "code",
   "execution_count": 53,
   "id": "dc5dcf4d",
   "metadata": {},
   "outputs": [
    {
     "data": {
      "text/plain": [
       "{'br': array([1.12647591, 1.10785636, 1.12698884, 1.16898827, 1.1538688 ,\n",
       "        1.14270592, 1.12838629, 1.1032448 , 1.19869609, 1.13673483]),\n",
       " 'gbr': array([1.13724255, 1.1080636 , 1.12402044, 1.17919728, 1.16660995,\n",
       "        1.11621835, 1.1404397 , 1.11415048, 1.12727304, 1.1512374 ]),\n",
       " 'ridge': array([1.13444613, 1.11198835, 1.12859486, 1.17456205, 1.16031432,\n",
       "        1.16639308, 1.13464153, 1.10353113, 1.21332879, 1.13535542]),\n",
       " 'omp': array([1.12550453, 1.09788011, 1.11981216, 1.17679697, 1.1555808 ,\n",
       "        1.16092027, 1.13376685, 1.10647897, 1.19143393, 1.13965602]),\n",
       " 'XG ': array([1.14339352, 1.11984373, 1.13110166, 1.18915485, 1.17426636,\n",
       "        1.1198134 , 1.1680487 , 1.13085396, 1.14357231, 1.15373892])}"
      ]
     },
     "execution_count": 53,
     "metadata": {},
     "output_type": "execute_result"
    }
   ],
   "source": [
    "results"
   ]
  },
  {
   "cell_type": "code",
   "execution_count": 54,
   "id": "0593d215",
   "metadata": {},
   "outputs": [
    {
     "name": "stdout",
     "output_type": "stream",
     "text": [
      " br \n",
      "1.1393946115516456\n",
      "0.027135661556790865\n",
      " gbr \n",
      "1.1364452793098645\n",
      "0.022188402835809015\n",
      " ridge \n",
      "1.1463155664055187\n",
      "0.030996592152177354\n",
      " omp \n",
      "1.1407830606340297\n",
      "0.028684727647371826\n",
      " XG  \n",
      "1.1473787421647712\n",
      "0.022410473793708797\n"
     ]
    }
   ],
   "source": [
    "for name, result in results.items():\n",
    "    print(' '+name+' ')\n",
    "    print(np.mean(result))\n",
    "    print(np.std(result))"
   ]
  },
  {
   "cell_type": "code",
   "execution_count": 69,
   "id": "1f9712f3",
   "metadata": {},
   "outputs": [
    {
     "data": {
      "text/plain": [
       "array([123861.1063365 , 160112.810589  , 184357.73470491, ...,\n",
       "       163592.02943771, 119274.60217545, 224564.25933164])"
      ]
     },
     "execution_count": 69,
     "metadata": {},
     "output_type": "execute_result"
    }
   ],
   "source": [
    "final_prediction = (\n",
    "    0.35*np.exp(models['br'].predict(test_final))+\n",
    "    0.35*np.exp(models['gbr'].predict(test_final))+\n",
    "    0.10*np.exp(models['ridge'].predict(test_final))+\n",
    "    0.20*np.exp(models['omp'].predict(test_final))\n",
    "    \n",
    ")\n",
    "final_prediction"
   ]
  },
  {
   "cell_type": "code",
   "execution_count": 70,
   "id": "65c88461",
   "metadata": {},
   "outputs": [
    {
     "data": {
      "text/html": [
       "<div>\n",
       "<style scoped>\n",
       "    .dataframe tbody tr th:only-of-type {\n",
       "        vertical-align: middle;\n",
       "    }\n",
       "\n",
       "    .dataframe tbody tr th {\n",
       "        vertical-align: top;\n",
       "    }\n",
       "\n",
       "    .dataframe thead th {\n",
       "        text-align: right;\n",
       "    }\n",
       "</style>\n",
       "<table border=\"1\" class=\"dataframe\">\n",
       "  <thead>\n",
       "    <tr style=\"text-align: right;\">\n",
       "      <th></th>\n",
       "      <th>Id</th>\n",
       "      <th>SalePrice</th>\n",
       "    </tr>\n",
       "  </thead>\n",
       "  <tbody>\n",
       "    <tr>\n",
       "      <th>0</th>\n",
       "      <td>1461</td>\n",
       "      <td>123861.106336</td>\n",
       "    </tr>\n",
       "    <tr>\n",
       "      <th>1</th>\n",
       "      <td>1462</td>\n",
       "      <td>160112.810589</td>\n",
       "    </tr>\n",
       "    <tr>\n",
       "      <th>2</th>\n",
       "      <td>1463</td>\n",
       "      <td>184357.734705</td>\n",
       "    </tr>\n",
       "    <tr>\n",
       "      <th>3</th>\n",
       "      <td>1464</td>\n",
       "      <td>195466.526654</td>\n",
       "    </tr>\n",
       "    <tr>\n",
       "      <th>4</th>\n",
       "      <td>1465</td>\n",
       "      <td>198287.335378</td>\n",
       "    </tr>\n",
       "    <tr>\n",
       "      <th>...</th>\n",
       "      <td>...</td>\n",
       "      <td>...</td>\n",
       "    </tr>\n",
       "    <tr>\n",
       "      <th>1454</th>\n",
       "      <td>2915</td>\n",
       "      <td>83325.464386</td>\n",
       "    </tr>\n",
       "    <tr>\n",
       "      <th>1455</th>\n",
       "      <td>2916</td>\n",
       "      <td>83716.488470</td>\n",
       "    </tr>\n",
       "    <tr>\n",
       "      <th>1456</th>\n",
       "      <td>2917</td>\n",
       "      <td>163592.029438</td>\n",
       "    </tr>\n",
       "    <tr>\n",
       "      <th>1457</th>\n",
       "      <td>2918</td>\n",
       "      <td>119274.602175</td>\n",
       "    </tr>\n",
       "    <tr>\n",
       "      <th>1458</th>\n",
       "      <td>2919</td>\n",
       "      <td>224564.259332</td>\n",
       "    </tr>\n",
       "  </tbody>\n",
       "</table>\n",
       "<p>1459 rows × 2 columns</p>\n",
       "</div>"
      ],
      "text/plain": [
       "        Id      SalePrice\n",
       "0     1461  123861.106336\n",
       "1     1462  160112.810589\n",
       "2     1463  184357.734705\n",
       "3     1464  195466.526654\n",
       "4     1465  198287.335378\n",
       "...    ...            ...\n",
       "1454  2915   83325.464386\n",
       "1455  2916   83716.488470\n",
       "1456  2917  163592.029438\n",
       "1457  2918  119274.602175\n",
       "1458  2919  224564.259332\n",
       "\n",
       "[1459 rows x 2 columns]"
      ]
     },
     "execution_count": 70,
     "metadata": {},
     "output_type": "execute_result"
    }
   ],
   "source": [
    "submission = pd.concat([test_id, pd.Series(final_prediction, name='SalePrice')], axis=1)\n",
    "submission"
   ]
  },
  {
   "cell_type": "code",
   "execution_count": 71,
   "id": "9b2362f3",
   "metadata": {},
   "outputs": [],
   "source": [
    "submission.to_csv('s12.csv', index=False, header=True)"
   ]
  },
  {
   "cell_type": "code",
   "execution_count": null,
   "id": "5f646b52",
   "metadata": {},
   "outputs": [],
   "source": []
  }
 ],
 "metadata": {
  "kernelspec": {
   "display_name": "Python 3 (ipykernel)",
   "language": "python",
   "name": "python3"
  },
  "language_info": {
   "codemirror_mode": {
    "name": "ipython",
    "version": 3
   },
   "file_extension": ".py",
   "mimetype": "text/x-python",
   "name": "python",
   "nbconvert_exporter": "python",
   "pygments_lexer": "ipython3",
   "version": "3.9.0"
  }
 },
 "nbformat": 4,
 "nbformat_minor": 5
}
